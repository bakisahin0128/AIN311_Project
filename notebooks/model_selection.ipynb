{
 "cells": [
  {
   "cell_type": "code",
   "id": "initial_id",
   "metadata": {
    "collapsed": true,
    "ExecuteTime": {
     "end_time": "2024-12-20T06:57:02.724238Z",
     "start_time": "2024-12-20T06:57:02.718947Z"
    }
   },
   "source": [
    ""
   ],
   "outputs": [],
   "execution_count": null
  },
  {
   "metadata": {
    "ExecuteTime": {
     "end_time": "2024-12-20T06:57:03.181626Z",
     "start_time": "2024-12-20T06:57:02.741947Z"
    }
   },
   "cell_type": "code",
   "source": [
    "import pandas as pd\n",
    "import numpy as np\n",
    "import matplotlib.pyplot as plt\n",
    "import seaborn as sns\n",
    "\n",
    "# Libraries for Modeling\n",
    "from sklearn.model_selection import train_test_split\n",
    "from sklearn.preprocessing import StandardScaler\n",
    "from sklearn.metrics import (\n",
    "    classification_report, accuracy_score, f1_score, confusion_matrix,\n",
    "    mean_squared_error, mean_absolute_error, r2_score\n",
    ")\n",
    "\n",
    "# Classification Models\n",
    "from sklearn.linear_model import LogisticRegression\n",
    "from sklearn.tree import DecisionTreeClassifier\n",
    "from sklearn.ensemble import RandomForestClassifier\n",
    "from sklearn.svm import SVC\n",
    "from xgboost import XGBClassifier\n",
    "\n",
    "# Regression Models\n",
    "from sklearn.linear_model import LinearRegression\n",
    "from sklearn.tree import DecisionTreeRegressor\n",
    "from sklearn.ensemble import RandomForestRegressor\n",
    "from xgboost import XGBRegressor\n"
   ],
   "id": "87c846f187c30d86",
   "outputs": [],
   "execution_count": 1
  },
  {
   "metadata": {
    "ExecuteTime": {
     "end_time": "2024-12-20T06:57:03.437833Z",
     "start_time": "2024-12-20T06:57:03.415269Z"
    }
   },
   "cell_type": "code",
   "source": [
    "# Load the prepared dataset\n",
    "input_file_path = r\"C:\\Users\\mbaki\\Desktop\\Proje\\data\\processed\\final_prepared_data_with_features.csv\"\n",
    "df = pd.read_csv(input_file_path)\n",
    "\n",
    "# Remove 'Home Goals' and 'Away Goals' columns\n",
    "df.drop(['Home Goals', 'Away Goals'], axis=1, inplace=True)\n",
    "\n",
    "# Recode 'Match_Result'\n",
    "# -1 -> 0 (Loss), 0 -> 1 (Draw), 1 -> 2 (Win)\n",
    "df['Match_Result'] = df['Match_Result'].map({-1: 0, 0: 1, 1: 2})\n",
    "\n",
    "# Separate features and target variables\n",
    "X = df.drop(['Match_Result', 'Goal_Difference'], axis=1)\n",
    "y_result = df['Match_Result']\n",
    "y_goals = df['Goal_Difference']\n",
    "\n",
    "# Display the DataFrame (optional)\n",
    "# print(df)\n"
   ],
   "id": "d4de4eb12d920c36",
   "outputs": [],
   "execution_count": 2
  },
  {
   "metadata": {
    "ExecuteTime": {
     "end_time": "2024-12-20T06:57:03.479573Z",
     "start_time": "2024-12-20T06:57:03.464837Z"
    }
   },
   "cell_type": "code",
   "source": [
    "# Split the data into training and testing sets for match result prediction\n",
    "X_train_result, X_test_result, y_train_result, y_test_result = train_test_split(\n",
    "    X, y_result, test_size=0.2, random_state=42, stratify=y_result\n",
    ")\n",
    "\n",
    "# Split the data into training and testing sets for goal difference prediction\n",
    "X_train_goals, X_test_goals, y_train_goals, y_test_goals = train_test_split(\n",
    "    X, y_goals, test_size=0.2, random_state=42\n",
    ")\n"
   ],
   "id": "27d5c3cf60528006",
   "outputs": [],
   "execution_count": 3
  },
  {
   "metadata": {
    "ExecuteTime": {
     "end_time": "2024-12-20T06:57:03.545765Z",
     "start_time": "2024-12-20T06:57:03.529607Z"
    }
   },
   "cell_type": "code",
   "source": [
    "# Define the scaler\n",
    "scaler = StandardScaler()\n",
    "\n",
    "# Scale features for match result prediction\n",
    "X_train_result = scaler.fit_transform(X_train_result)\n",
    "X_test_result = scaler.transform(X_test_result)\n",
    "\n",
    "# Scale features for goal difference prediction\n",
    "X_train_goals = scaler.fit_transform(X_train_goals)\n",
    "X_test_goals = scaler.transform(X_test_goals)\n"
   ],
   "id": "d056459c10c045a1",
   "outputs": [],
   "execution_count": 4
  },
  {
   "metadata": {
    "ExecuteTime": {
     "end_time": "2024-12-20T06:57:03.584658Z",
     "start_time": "2024-12-20T06:57:03.577063Z"
    }
   },
   "cell_type": "code",
   "source": [
    "# Define classification models\n",
    "classification_models = {\n",
    "    'Logistic Regression': LogisticRegression(max_iter=1000, random_state=42),\n",
    "    'Decision Tree': DecisionTreeClassifier(random_state=42),\n",
    "    'Random Forest': RandomForestClassifier(n_estimators=100, random_state=42),\n",
    "    'Support Vector Machine': SVC(probability=True, random_state=42),\n",
    "    'XGBoost': XGBClassifier(use_label_encoder=False, eval_metric='mlogloss', random_state=42)\n",
    "}\n"
   ],
   "id": "8f12c0f26f314126",
   "outputs": [],
   "execution_count": 5
  },
  {
   "metadata": {
    "ExecuteTime": {
     "end_time": "2024-12-20T06:57:03.620853Z",
     "start_time": "2024-12-20T06:57:03.613983Z"
    }
   },
   "cell_type": "code",
   "source": [
    "# Define regression models\n",
    "regression_models = {\n",
    "    'Linear Regression': LinearRegression(),\n",
    "    'Decision Tree Regressor': DecisionTreeRegressor(random_state=42),\n",
    "    'Random Forest Regressor': RandomForestRegressor(n_estimators=100, random_state=42),\n",
    "    'XGBoost Regressor': XGBRegressor(random_state=42)\n",
    "}\n"
   ],
   "id": "bf2d58a0e0bc1971",
   "outputs": [],
   "execution_count": 6
  },
  {
   "metadata": {
    "ExecuteTime": {
     "end_time": "2024-12-20T06:57:04.372316Z",
     "start_time": "2024-12-20T06:57:03.655783Z"
    }
   },
   "cell_type": "code",
   "source": [
    "# Evaluate classification models\n",
    "classification_results = []\n",
    "\n",
    "print(\"=== Classification Models Performance Evaluation ===\\n\")\n",
    "\n",
    "for model_name, model in classification_models.items():\n",
    "    # Train the model\n",
    "    model.fit(X_train_result, y_train_result)\n",
    "    \n",
    "    # Make predictions\n",
    "    y_pred = model.predict(X_test_result)\n",
    "    \n",
    "    # Calculate performance metrics\n",
    "    accuracy = accuracy_score(y_test_result, y_pred)\n",
    "    f1 = f1_score(y_test_result, y_pred, average='weighted')\n",
    "    \n",
    "    # Store the results\n",
    "    classification_results.append({\n",
    "        'Model': model_name,\n",
    "        'Accuracy': accuracy,\n",
    "        'F1 Score': f1\n",
    "    })\n",
    "    \n",
    "    # Print the results\n",
    "    print(f\"Model: {model_name}\")\n",
    "    print(f\"Accuracy: {accuracy:.4f}\")\n",
    "    print(f\"F1 Score: {f1:.4f}\\n\")\n"
   ],
   "id": "540eeb3c858f43d8",
   "outputs": [
    {
     "name": "stdout",
     "output_type": "stream",
     "text": [
      "=== Classification Models Performance Evaluation ===\n",
      "\n",
      "Model: Logistic Regression\n",
      "Accuracy: 0.6579\n",
      "F1 Score: 0.6345\n",
      "\n",
      "Model: Decision Tree\n",
      "Accuracy: 0.5658\n",
      "F1 Score: 0.5602\n",
      "\n",
      "Model: Random Forest\n",
      "Accuracy: 0.6842\n",
      "F1 Score: 0.6830\n",
      "\n",
      "Model: Support Vector Machine\n",
      "Accuracy: 0.6447\n",
      "F1 Score: 0.6297\n",
      "\n"
     ]
    },
    {
     "name": "stderr",
     "output_type": "stream",
     "text": [
      "C:\\Users\\mbaki\\Desktop\\Proje\\venv\\Lib\\site-packages\\xgboost\\core.py:158: UserWarning: [09:57:03] WARNING: C:\\buildkite-agent\\builds\\buildkite-windows-cpu-autoscaling-group-i-0c55ff5f71b100e98-1\\xgboost\\xgboost-ci-windows\\src\\learner.cc:740: \n",
      "Parameters: { \"use_label_encoder\" } are not used.\n",
      "\n",
      "  warnings.warn(smsg, UserWarning)\n"
     ]
    },
    {
     "name": "stdout",
     "output_type": "stream",
     "text": [
      "Model: XGBoost\n",
      "Accuracy: 0.6447\n",
      "F1 Score: 0.6407\n",
      "\n"
     ]
    }
   ],
   "execution_count": 7
  },
  {
   "metadata": {
    "ExecuteTime": {
     "end_time": "2024-12-20T06:57:05.632572Z",
     "start_time": "2024-12-20T06:57:04.420070Z"
    }
   },
   "cell_type": "code",
   "source": [
    "# Evaluate regression models\n",
    "regression_results = []\n",
    "\n",
    "print(\"=== Regression Models Performance Evaluation ===\\n\")\n",
    "\n",
    "for model_name, model in regression_models.items():\n",
    "    # Train the model\n",
    "    model.fit(X_train_goals, y_train_goals)\n",
    "    \n",
    "    # Make predictions\n",
    "    y_pred = model.predict(X_test_goals)\n",
    "    \n",
    "    # Calculate performance metrics\n",
    "    mse = mean_squared_error(y_test_goals, y_pred)\n",
    "    mae = mean_absolute_error(y_test_goals, y_pred)\n",
    "    r2 = r2_score(y_test_goals, y_pred)\n",
    "    \n",
    "    # Store the results\n",
    "    regression_results.append({\n",
    "        'Model': model_name,\n",
    "        'MSE': mse,\n",
    "        'MAE': mae,\n",
    "        'R² Score': r2\n",
    "    })\n",
    "    \n",
    "    # Print the results\n",
    "    print(f\"Model: {model_name}\")\n",
    "    print(f\"Mean Squared Error (MSE): {mse:.4f}\")\n",
    "    print(f\"Mean Absolute Error (MAE): {mae:.4f}\")\n",
    "    print(f\"R² Score: {r2:.4f}\\n\")\n"
   ],
   "id": "23960f61438f9d42",
   "outputs": [
    {
     "name": "stdout",
     "output_type": "stream",
     "text": [
      "=== Regression Models Performance Evaluation ===\n",
      "\n",
      "Model: Linear Regression\n",
      "Mean Squared Error (MSE): 0.2445\n",
      "Mean Absolute Error (MAE): 0.3699\n",
      "R² Score: 0.7701\n",
      "\n",
      "Model: Decision Tree Regressor\n",
      "Mean Squared Error (MSE): 0.4485\n",
      "Mean Absolute Error (MAE): 0.5077\n",
      "R² Score: 0.5782\n",
      "\n",
      "Model: Random Forest Regressor\n",
      "Mean Squared Error (MSE): 0.2660\n",
      "Mean Absolute Error (MAE): 0.4211\n",
      "R² Score: 0.7498\n",
      "\n",
      "Model: XGBoost Regressor\n",
      "Mean Squared Error (MSE): 0.3044\n",
      "Mean Absolute Error (MAE): 0.4522\n",
      "R² Score: 0.7137\n",
      "\n"
     ]
    }
   ],
   "execution_count": 8
  },
  {
   "metadata": {
    "ExecuteTime": {
     "end_time": "2024-12-20T06:57:05.688097Z",
     "start_time": "2024-12-20T06:57:05.678603Z"
    }
   },
   "cell_type": "code",
   "source": [
    "# Convert classification results to a DataFrame\n",
    "classification_df = pd.DataFrame(classification_results)\n",
    "print(\"Classification Models Performance Table:\")\n",
    "print(classification_df)\n"
   ],
   "id": "d193517b561fbb6e",
   "outputs": [
    {
     "name": "stdout",
     "output_type": "stream",
     "text": [
      "Classification Models Performance Table:\n",
      "                    Model  Accuracy  F1 Score\n",
      "0     Logistic Regression  0.657895  0.634508\n",
      "1           Decision Tree  0.565789  0.560152\n",
      "2           Random Forest  0.684211  0.683008\n",
      "3  Support Vector Machine  0.644737  0.629669\n",
      "4                 XGBoost  0.644737  0.640731\n"
     ]
    }
   ],
   "execution_count": 9
  },
  {
   "metadata": {
    "ExecuteTime": {
     "end_time": "2024-12-20T06:57:05.745125Z",
     "start_time": "2024-12-20T06:57:05.735825Z"
    }
   },
   "cell_type": "code",
   "source": [
    "# Convert regression results to a DataFrame\n",
    "regression_df = pd.DataFrame(regression_results)\n",
    "print(\"\\nRegression Models Performance Table:\")\n",
    "print(regression_df)\n"
   ],
   "id": "fb85fd2442653a0e",
   "outputs": [
    {
     "name": "stdout",
     "output_type": "stream",
     "text": [
      "\n",
      "Regression Models Performance Table:\n",
      "                     Model       MSE       MAE  R² Score\n",
      "0        Linear Regression  0.244491  0.369909  0.770057\n",
      "1  Decision Tree Regressor  0.448479  0.507692  0.578208\n",
      "2  Random Forest Regressor  0.265998  0.421090  0.749830\n",
      "3        XGBoost Regressor  0.304390  0.452185  0.713723\n"
     ]
    }
   ],
   "execution_count": 10
  },
  {
   "metadata": {
    "ExecuteTime": {
     "end_time": "2024-12-20T06:57:06.073401Z",
     "start_time": "2024-12-20T06:57:05.810767Z"
    }
   },
   "cell_type": "code",
   "source": [
    "# Feature Importance for Classification\n",
    "\n",
    "# Select the second best model (e.g., 'XGBoost')\n",
    "# Update this based on your classification results\n",
    "best_second_model_name = 'XGBoost'  \n",
    "best_second_model = classification_models[best_second_model_name]\n",
    "\n",
    "# Check if the model has feature_importances attribute\n",
    "if hasattr(best_second_model, 'feature_importances_'):\n",
    "    # Get feature importances\n",
    "    feature_importances = best_second_model.feature_importances_\n",
    "    \n",
    "    # Get feature names\n",
    "    feature_names = X.columns\n",
    "    \n",
    "    # Create a DataFrame for feature importances\n",
    "    importance_df = pd.DataFrame({\n",
    "        'Feature': feature_names,\n",
    "        'Importance': feature_importances\n",
    "    })\n",
    "    \n",
    "    # Sort features by importance\n",
    "    importance_df = importance_df.sort_values(by='Importance', ascending=False)\n",
    "    \n",
    "    # Display top 10 important features\n",
    "    print(f\"\\nTop 10 Important Features - {best_second_model_name}:\")\n",
    "    print(importance_df.head(10))\n",
    "    \n",
    "    # Plot the top 10 important features\n",
    "    plt.figure(figsize=(10, 6))\n",
    "    sns.barplot(x='Importance', y='Feature', data=importance_df.head(10))\n",
    "    plt.title(f'Top 10 Important Features - {best_second_model_name}')\n",
    "    plt.xlabel('Feature Importance')\n",
    "    plt.ylabel('Features')\n",
    "    plt.tight_layout()\n",
    "    plt.show()\n",
    "else:\n",
    "    print(f\"The model {best_second_model_name} does not have feature_importances attribute.\")\n"
   ],
   "id": "2b9fcd7f53265f07",
   "outputs": [
    {
     "name": "stdout",
     "output_type": "stream",
     "text": [
      "\n",
      "Top 10 Important Features - XGBoost:\n",
      "                     Feature  Importance\n",
      "36          Performance_Diff    0.157322\n",
      "28          Home_Midfielders    0.036320\n",
      "4           Away Performance    0.032687\n",
      "17             Away Player 2    0.029348\n",
      "34  Away_Players_Total_Score    0.029056\n",
      "52    Performance_Diff_Last5    0.025677\n",
      "53   Performance_Diff_Last10    0.025579\n",
      "19             Away Player 4    0.025213\n",
      "20             Away Player 5    0.024675\n",
      "7              Home Player 3    0.024427\n"
     ]
    },
    {
     "data": {
      "text/plain": [
       "<Figure size 1000x600 with 1 Axes>"
      ],
      "image/png": "[encoded data removed]"
     },
     "metadata": {},
     "output_type": "display_data"
    }
   ],
   "execution_count": 11
  },
  {
   "metadata": {
    "ExecuteTime": {
     "end_time": "2024-12-20T06:57:06.096893Z",
     "start_time": "2024-12-20T06:57:06.083202Z"
    }
   },
   "cell_type": "code",
   "source": [
    "# Feature Importance for Regression\n",
    "\n",
    "# Sort regression results by R² Score in descending order\n",
    "sorted_regression_df = regression_df.sort_values(by='R² Score', ascending=False)\n",
    "print(\"\\nRegression Models Sorted by R² Score:\")\n",
    "print(sorted_regression_df)\n",
    "\n",
    "# Identify the best regression model\n",
    "best_regression_model_name = sorted_regression_df.iloc[0]['Model']\n",
    "print(f\"\\nBest Regression Model: {best_regression_model_name}\")\n",
    "\n",
    "# Select the best regression model\n",
    "best_reg = regression_models[best_regression_model_name]\n",
    "\n",
    "# Check if the model has feature_importances attribute\n",
    "if hasattr(best_reg, 'feature_importances_'):\n",
    "    # Get feature importances\n",
    "    feature_importances_reg = best_reg.feature_importances_\n",
    "    \n",
    "    # Get feature names\n",
    "    feature_names = X.columns\n",
    "    \n",
    "    # Create a DataFrame for feature importances\n",
    "    importance_df_reg = pd.DataFrame({\n",
    "        'Feature': feature_names,\n",
    "        'Importance': feature_importances_reg\n",
    "    })\n",
    "    \n",
    "    # Sort features by importance\n",
    "    importance_df_reg = importance_df_reg.sort_values(by='Importance', ascending=False)\n",
    "    \n",
    "    # Display top 10 important features\n",
    "    print(\"\\nTop 10 Important Features (Regression):\")\n",
    "    print(importance_df_reg.head(10))\n",
    "else:\n",
    "    print(f\"The model {best_regression_model_name} does not have feature_importances attribute.\")\n"
   ],
   "id": "30f9231dab469bb0",
   "outputs": [
    {
     "name": "stdout",
     "output_type": "stream",
     "text": [
      "\n",
      "Regression Models Sorted by R² Score:\n",
      "                     Model       MSE       MAE  R² Score\n",
      "0        Linear Regression  0.244491  0.369909  0.770057\n",
      "2  Random Forest Regressor  0.265998  0.421090  0.749830\n",
      "3        XGBoost Regressor  0.304390  0.452185  0.713723\n",
      "1  Decision Tree Regressor  0.448479  0.507692  0.578208\n",
      "\n",
      "Best Regression Model: Linear Regression\n",
      "The model Linear Regression does not have feature_importances attribute.\n"
     ]
    }
   ],
   "execution_count": 12
  },
  {
   "metadata": {
    "ExecuteTime": {
     "end_time": "2024-12-20T06:57:06.143403Z",
     "start_time": "2024-12-20T06:57:06.137692Z"
    }
   },
   "cell_type": "code",
   "source": "",
   "id": "b65c64743e95f953",
   "outputs": [],
   "execution_count": null
  }
 ],
 "metadata": {
  "kernelspec": {
   "display_name": "Python 3",
   "language": "python",
   "name": "python3"
  },
  "language_info": {
   "codemirror_mode": {
    "name": "ipython",
    "version": 2
   },
   "file_extension": ".py",
   "mimetype": "text/x-python",
   "name": "python",
   "nbconvert_exporter": "python",
   "pygments_lexer": "ipython2",
   "version": "2.7.6"
  }
 },
 "nbformat": 4,
 "nbformat_minor": 5
}
